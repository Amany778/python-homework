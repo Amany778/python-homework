{
 "cells": [
  {
   "cell_type": "code",
   "execution_count": 16,
   "id": "be2f6b0a-531b-4bd8-b8ec-940c792da8e7",
   "metadata": {},
   "outputs": [
    {
     "name": "stdout",
     "output_type": "stream",
     "text": [
      "Financial Analysis\n",
      "---------------------------------\n",
      "Total Months: 85\n",
      "Total : $38382578\n",
      "Average Change: $(-2315.12)\n",
      "Greatest Increase in Profit: Feb-2012 $(1926159)\n",
      "Greatest Decrease in Profit: Sep-2013 $(-2196167)\n"
     ]
    }
   ],
   "source": [
    "run FinAny"
   ]
  },
  {
   "cell_type": "code",
   "execution_count": null,
   "id": "bd101948-d597-47de-9fe2-c9abfd50fe21",
   "metadata": {},
   "outputs": [],
   "source": []
  }
 ],
 "metadata": {
  "kernelspec": {
   "display_name": "Python 3 (ipykernel)",
   "language": "python",
   "name": "python3"
  },
  "language_info": {
   "codemirror_mode": {
    "name": "ipython",
    "version": 3
   },
   "file_extension": ".py",
   "mimetype": "text/x-python",
   "name": "python",
   "nbconvert_exporter": "python",
   "pygments_lexer": "ipython3",
   "version": "3.7.11"
  }
 },
 "nbformat": 4,
 "nbformat_minor": 5
}
